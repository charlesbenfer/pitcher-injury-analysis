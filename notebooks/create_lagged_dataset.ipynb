{
 "cells": [
  {
   "cell_type": "markdown",
   "metadata": {},
   "source": [
    "# Create Lagged Feature Dataset for Survival Analysis\n",
    "\n",
    "This notebook creates a proper dataset with lagged features to eliminate data leakage:\n",
    "- Use **Year T performance** to predict **Year T+1 injury risk**\n",
    "- Available data: 2020-2023 survival outcomes, 2021-2023 performance stats\n",
    "- Final dataset: 2021 performance → 2022 injury, 2022 performance → 2023 injury\n",
    "\n",
    "This eliminates the data leakage where current-year performance was used to predict current-year injuries."
   ]
  },
  {
   "cell_type": "code",
   "execution_count": 1,
   "metadata": {},
   "outputs": [
    {
     "name": "stdout",
     "output_type": "stream",
     "text": [
      "Loading datasets...\n"
     ]
    }
   ],
   "source": [
    "import pandas as pd\n",
    "import numpy as np\n",
    "import matplotlib.pyplot as plt\n",
    "import seaborn as sns\n",
    "from sklearn.preprocessing import StandardScaler\n",
    "\n",
    "# Display settings\n",
    "pd.set_option('display.max_columns', None)\n",
    "pd.set_option('display.max_rows', 100)\n",
    "\n",
    "print(\"Loading datasets...\")"
   ]
  },
  {
   "cell_type": "code",
   "execution_count": null,
   "metadata": {},
   "outputs": [
    {
     "name": "stdout",
     "output_type": "stream",
     "text": [
      "Survival dataset: (1123, 28)\n",
      "Pitcher stats: (1042, 393)\n",
      "\n",
      "Survival seasons: [np.int64(2020), np.int64(2021), np.int64(2022), np.int64(2023)]\n",
      "Performance seasons: [np.int64(2021), np.int64(2022), np.int64(2023)]\n"
     ]
    }
   ],
   "source": [
    "# Load the datasets\n",
    "survival_df = pd.read_csv('../data/processed/')\n",
    "pitcher_stats = pd.read_csv('../data/processed/pitcher_stats.csv')\n",
    "\n",
    "print(f\"Survival dataset: {survival_df.shape}\")\n",
    "print(f\"Pitcher stats: {pitcher_stats.shape}\")\n",
    "\n",
    "print(\"\\nSurvival seasons:\", sorted(survival_df['season'].unique()))\n",
    "print(\"Performance seasons:\", sorted(pitcher_stats['Season'].unique()))"
   ]
  },
  {
   "cell_type": "code",
   "execution_count": 3,
   "metadata": {},
   "outputs": [
    {
     "name": "stdout",
     "output_type": "stream",
     "text": [
      "=== SURVIVAL DATASET COLUMNS ===\n",
      "['player_name', 'season', 'time_to_event', 'event', 'injury_type', 'injury_category', 'age', 'w', 'l', 'era', 'g', 'gs', 'ip', 'h', 'r', 'er', 'hr', 'bb', 'so', 'whip', 'k_per_9', 'bb_per_9', 'hr_per_9', 'fip', 'war', 'high_workload', 'veteran', 'high_era']\n",
      "\n",
      "=== PITCHER STATS KEY COLUMNS ===\n",
      "['Name', 'Season', 'Age', 'W', 'L', 'ERA', 'G', 'GS', 'IP', 'H', 'R', 'ER', 'HR', 'BB', 'SO', 'WHIP', 'K/9', 'BB/9', 'HR/9', 'FIP', 'WAR']\n"
     ]
    }
   ],
   "source": [
    "# Examine the datasets\n",
    "print(\"=== SURVIVAL DATASET COLUMNS ===\")\n",
    "print(survival_df.columns.tolist())\n",
    "print(\"\\n=== PITCHER STATS KEY COLUMNS ===\")\n",
    "perf_cols = ['Name', 'Season', 'Age', 'W', 'L', 'ERA', 'G', 'GS', 'IP', 'H', 'R', 'ER', \n",
    "             'HR', 'BB', 'SO', 'WHIP', 'K/9', 'BB/9', 'HR/9', 'FIP', 'WAR']\n",
    "available_perf_cols = [col for col in perf_cols if col in pitcher_stats.columns]\n",
    "print(available_perf_cols)"
   ]
  },
  {
   "cell_type": "code",
   "execution_count": 4,
   "metadata": {},
   "outputs": [
    {
     "name": "stdout",
     "output_type": "stream",
     "text": [
      "Unique names in survival dataset: 580\n",
      "Unique names in pitcher stats: 576\n",
      "Names in both datasets: 576\n",
      "\n",
      "Sample matching names:\n",
      "  john means\n",
      "  zach plesac\n",
      "  aroldis chapman\n",
      "  jose hernandez\n",
      "  hayden wesneski\n",
      "  scott effross\n",
      "  a.j. minter\n",
      "  hirokazu sawamura\n",
      "  eli morgan\n",
      "  tanner banks\n"
     ]
    }
   ],
   "source": [
    "# Check name matching between datasets\n",
    "survival_names = set(survival_df['player_name'].str.strip().str.lower())\n",
    "perf_names = set(pitcher_stats['Name'].str.strip().str.lower())\n",
    "\n",
    "print(f\"Unique names in survival dataset: {len(survival_names)}\")\n",
    "print(f\"Unique names in pitcher stats: {len(perf_names)}\")\n",
    "print(f\"Names in both datasets: {len(survival_names & perf_names)}\")\n",
    "\n",
    "# Sample of matching names\n",
    "print(\"\\nSample matching names:\")\n",
    "for name in list(survival_names & perf_names)[:10]:\n",
    "    print(f\"  {name}\")"
   ]
  },
  {
   "cell_type": "code",
   "execution_count": 5,
   "metadata": {},
   "outputs": [
    {
     "name": "stdout",
     "output_type": "stream",
     "text": [
      "Available performance features: 21\n",
      "['Season', 'Name', 'Age', 'W', 'L', 'ERA', 'G', 'GS', 'IP', 'H', 'R', 'ER', 'HR', 'BB', 'SO', 'WHIP', 'FIP', 'WAR', 'K/9', 'BB/9', 'HR/9']\n"
     ]
    }
   ],
   "source": [
    "# Prepare datasets for merging\n",
    "# Standardize names for matching\n",
    "survival_df['name_clean'] = survival_df['player_name'].str.strip().str.lower()\n",
    "pitcher_stats['name_clean'] = pitcher_stats['Name'].str.strip().str.lower()\n",
    "\n",
    "# Select key performance features\n",
    "performance_features = {\n",
    "    'Season': 'season_perf',\n",
    "    'Name': 'player_name', \n",
    "    'Age': 'age_prev',\n",
    "    'W': 'w_prev',\n",
    "    'L': 'l_prev', \n",
    "    'ERA': 'era_prev',\n",
    "    'G': 'g_prev',\n",
    "    'GS': 'gs_prev',\n",
    "    'IP': 'ip_prev',\n",
    "    'H': 'h_prev',\n",
    "    'R': 'r_prev',\n",
    "    'ER': 'er_prev',\n",
    "    'HR': 'hr_prev',\n",
    "    'BB': 'bb_prev', \n",
    "    'SO': 'so_prev',\n",
    "    'WHIP': 'whip_prev',\n",
    "    'FIP': 'fip_prev',\n",
    "    'WAR': 'war_prev'\n",
    "}\n",
    "\n",
    "# Add calculated features if columns exist\n",
    "if 'K/9' in pitcher_stats.columns:\n",
    "    performance_features['K/9'] = 'k_per_9_prev'\n",
    "if 'BB/9' in pitcher_stats.columns:\n",
    "    performance_features['BB/9'] = 'bb_per_9_prev'\n",
    "if 'HR/9' in pitcher_stats.columns:\n",
    "    performance_features['HR/9'] = 'hr_per_9_prev'\n",
    "\n",
    "# Extract available performance columns\n",
    "available_perf_features = {k: v for k, v in performance_features.items() if k in pitcher_stats.columns}\n",
    "print(f\"Available performance features: {len(available_perf_features)}\")\n",
    "print(list(available_perf_features.keys()))"
   ]
  },
  {
   "cell_type": "code",
   "execution_count": 6,
   "metadata": {},
   "outputs": [
    {
     "name": "stdout",
     "output_type": "stream",
     "text": [
      "Performance dataset shape: (1042, 22)\n",
      "\n",
      "Performance dataset columns:\n",
      "['season', 'player_name', 'age_prev', 'w_prev', 'l_prev', 'era_prev', 'g_prev', 'gs_prev', 'ip_prev', 'h_prev', 'r_prev', 'er_prev', 'hr_prev', 'bb_prev', 'so_prev', 'whip_prev', 'fip_prev', 'war_prev', 'k_per_9_prev', 'bb_per_9_prev', 'hr_per_9_prev', 'name_clean']\n"
     ]
    }
   ],
   "source": [
    "# Create performance dataset\n",
    "perf_df = pitcher_stats[list(available_perf_features.keys()) + ['name_clean']].copy()\n",
    "perf_df = perf_df.rename(columns=available_perf_features)\n",
    "perf_df = perf_df.rename(columns={'season_perf': 'season'})\n",
    "\n",
    "print(f\"Performance dataset shape: {perf_df.shape}\")\n",
    "print(\"\\nPerformance dataset columns:\")\n",
    "print(perf_df.columns.tolist())"
   ]
  },
  {
   "cell_type": "code",
   "execution_count": 7,
   "metadata": {},
   "outputs": [
    {
     "name": "stdout",
     "output_type": "stream",
     "text": [
      "\n",
      "Creating lagged features: 2021 performance → 2022 injury\n",
      "  Performance data (2021): 338 players\n",
      "  Injury data (2022): 347 players\n",
      "  Merged dataset: 219 players\n",
      "  Event rate: 45.2%\n",
      "\n",
      "Creating lagged features: 2022 performance → 2023 injury\n",
      "  Performance data (2022): 347 players\n",
      "  Injury data (2023): 357 players\n",
      "  Merged dataset: 217 players\n",
      "  Event rate: 42.9%\n",
      "\n",
      "Final lagged dataset: (436, 27)\n",
      "Overall event rate: 44.0%\n",
      "Seasons: [np.int64(2022), np.int64(2023)]\n"
     ]
    }
   ],
   "source": [
    "# Create lagged dataset\n",
    "# We want: Year T performance → Year T+1 injury\n",
    "lagged_data = []\n",
    "\n",
    "for year in [2021, 2022]:  # Performance years\n",
    "    injury_year = year + 1  # Injury year\n",
    "    \n",
    "    print(f\"\\nCreating lagged features: {year} performance → {injury_year} injury\")\n",
    "    \n",
    "    # Get performance data for year T\n",
    "    perf_year = perf_df[perf_df['season'] == year].copy()\n",
    "    print(f\"  Performance data ({year}): {len(perf_year)} players\")\n",
    "    \n",
    "    # Get injury data for year T+1  \n",
    "    injury_year_data = survival_df[survival_df['season'] == injury_year].copy()\n",
    "    print(f\"  Injury data ({injury_year}): {len(injury_year_data)} players\")\n",
    "    \n",
    "    # Merge on player name\n",
    "    merged = pd.merge(\n",
    "        injury_year_data[['name_clean', 'season', 'time_to_event', 'event', \n",
    "                         'injury_type', 'injury_category', 'age']],\n",
    "        perf_year.drop(columns=['season']),  # Remove season to avoid confusion\n",
    "        on='name_clean',\n",
    "        how='inner'\n",
    "    )\n",
    "    \n",
    "    print(f\"  Merged dataset: {len(merged)} players\")\n",
    "    print(f\"  Event rate: {merged['event'].mean():.1%}\")\n",
    "    \n",
    "    lagged_data.append(merged)\n",
    "\n",
    "# Combine all years\n",
    "final_lagged_df = pd.concat(lagged_data, ignore_index=True)\n",
    "print(f\"\\nFinal lagged dataset: {final_lagged_df.shape}\")\n",
    "print(f\"Overall event rate: {final_lagged_df['event'].mean():.1%}\")\n",
    "print(f\"Seasons: {sorted(final_lagged_df['season'].unique())}\")"
   ]
  },
  {
   "cell_type": "code",
   "execution_count": 8,
   "metadata": {},
   "outputs": [
    {
     "name": "stdout",
     "output_type": "stream",
     "text": [
      "Adding derived features...\n",
      "  High workload threshold (GS): 27.0\n",
      "  Veteran percentage: 35.1%\n",
      "  High ERA threshold: 4.41\n",
      "\n",
      "Final dataset shape: (436, 30)\n"
     ]
    }
   ],
   "source": [
    "# Add derived features similar to original dataset\n",
    "print(\"Adding derived features...\")\n",
    "\n",
    "# High workload indicator (using previous year's games started)\n",
    "if 'gs_prev' in final_lagged_df.columns:\n",
    "    gs_75th = final_lagged_df['gs_prev'].quantile(0.75)\n",
    "    final_lagged_df['high_workload_prev'] = (final_lagged_df['gs_prev'] >= gs_75th).astype(int)\n",
    "    print(f\"  High workload threshold (GS): {gs_75th}\")\n",
    "\n",
    "# Veteran status (age >= 30)\n",
    "if 'age_prev' in final_lagged_df.columns:\n",
    "    final_lagged_df['veteran_prev'] = (final_lagged_df['age_prev'] >= 30).astype(int)\n",
    "    veteran_pct = final_lagged_df['veteran_prev'].mean()\n",
    "    print(f\"  Veteran percentage: {veteran_pct:.1%}\")\n",
    "\n",
    "# High ERA indicator (poor performance)\n",
    "if 'era_prev' in final_lagged_df.columns:\n",
    "    era_75th = final_lagged_df['era_prev'].quantile(0.75)\n",
    "    final_lagged_df['high_era_prev'] = (final_lagged_df['era_prev'] >= era_75th).astype(int)\n",
    "    print(f\"  High ERA threshold: {era_75th:.2f}\")\n",
    "\n",
    "print(f\"\\nFinal dataset shape: {final_lagged_df.shape}\")"
   ]
  },
  {
   "cell_type": "code",
   "execution_count": 9,
   "metadata": {},
   "outputs": [
    {
     "name": "stdout",
     "output_type": "stream",
     "text": [
      "Missing data summary:\n",
      "injury_type        244\n",
      "injury_category    244\n",
      "dtype: int64\n",
      "\n",
      "Imputing missing values...\n",
      "  injury_type: filled with 'unknown'\n",
      "  injury_category: filled with 'unknown'\n",
      "\n",
      "Missing data after imputation: 0\n"
     ]
    },
    {
     "name": "stderr",
     "output_type": "stream",
     "text": [
      "/tmp/ipykernel_72047/1030065441.py:21: FutureWarning: A value is trying to be set on a copy of a DataFrame or Series through chained assignment using an inplace method.\n",
      "The behavior will change in pandas 3.0. This inplace method will never work because the intermediate object on which we are setting values always behaves as a copy.\n",
      "\n",
      "For example, when doing 'df[col].method(value, inplace=True)', try using 'df.method({col: value}, inplace=True)' or df[col] = df[col].method(value) instead, to perform the operation inplace on the original object.\n",
      "\n",
      "\n",
      "  final_lagged_df[col].fillna('unknown', inplace=True)\n"
     ]
    }
   ],
   "source": [
    "# Handle missing data\n",
    "print(\"Missing data summary:\")\n",
    "missing_summary = final_lagged_df.isnull().sum()\n",
    "missing_summary = missing_summary[missing_summary > 0].sort_values(ascending=False)\n",
    "print(missing_summary)\n",
    "\n",
    "if len(missing_summary) > 0:\n",
    "    print(\"\\nImputing missing values...\")\n",
    "    # For numeric columns, use median\n",
    "    numeric_cols = final_lagged_df.select_dtypes(include=[np.number]).columns\n",
    "    for col in numeric_cols:\n",
    "        if final_lagged_df[col].isnull().any():\n",
    "            median_val = final_lagged_df[col].median()\n",
    "            final_lagged_df[col].fillna(median_val, inplace=True)\n",
    "            print(f\"  {col}: filled with median {median_val:.3f}\")\n",
    "    \n",
    "    # For categorical columns, use mode or 'unknown'\n",
    "    categorical_cols = final_lagged_df.select_dtypes(include=['object']).columns\n",
    "    for col in categorical_cols:\n",
    "        if final_lagged_df[col].isnull().any():\n",
    "            final_lagged_df[col].fillna('unknown', inplace=True)\n",
    "            print(f\"  {col}: filled with 'unknown'\")\n",
    "\n",
    "print(f\"\\nMissing data after imputation: {final_lagged_df.isnull().sum().sum()}\")"
   ]
  },
  {
   "cell_type": "code",
   "execution_count": 10,
   "metadata": {},
   "outputs": [
    {
     "name": "stdout",
     "output_type": "stream",
     "text": [
      "=== LAGGED DATASET SUMMARY ===\n",
      "Total observations: 436\n",
      "Injury events: 192\n",
      "Event rate: 44.0%\n",
      "Seasons: [np.int64(2022), np.int64(2023)]\n",
      "\n",
      "=== SEASON BREAKDOWN ===\n",
      "        Total_Players  Injuries  Injury_Rate  Mean_Time  Median_Time\n",
      "season                                                              \n",
      "2022              219        99        0.452    132.658        180.0\n",
      "2023              217        93        0.429    132.581        180.0\n",
      "\n",
      "=== KEY FEATURES AVAILABLE ===\n",
      "Lagged performance features (22):\n",
      "  age_prev\n",
      "  w_prev\n",
      "  l_prev\n",
      "  era_prev\n",
      "  g_prev\n",
      "  gs_prev\n",
      "  ip_prev\n",
      "  h_prev\n",
      "  r_prev\n",
      "  er_prev\n",
      "  hr_prev\n",
      "  bb_prev\n",
      "  so_prev\n",
      "  whip_prev\n",
      "  fip_prev\n",
      "  war_prev\n",
      "  k_per_9_prev\n",
      "  bb_per_9_prev\n",
      "  hr_per_9_prev\n",
      "  high_workload_prev\n",
      "  veteran_prev\n",
      "  high_era_prev\n"
     ]
    }
   ],
   "source": [
    "# Summary statistics\n",
    "print(\"=== LAGGED DATASET SUMMARY ===\")\n",
    "print(f\"Total observations: {len(final_lagged_df)}\")\n",
    "print(f\"Injury events: {final_lagged_df['event'].sum()}\")\n",
    "print(f\"Event rate: {final_lagged_df['event'].mean():.1%}\")\n",
    "print(f\"Seasons: {sorted(final_lagged_df['season'].unique())}\")\n",
    "\n",
    "print(\"\\n=== SEASON BREAKDOWN ===\")\n",
    "season_summary = final_lagged_df.groupby('season').agg({\n",
    "    'event': ['count', 'sum', 'mean'],\n",
    "    'time_to_event': ['mean', 'median']\n",
    "}).round(3)\n",
    "season_summary.columns = ['Total_Players', 'Injuries', 'Injury_Rate', 'Mean_Time', 'Median_Time']\n",
    "print(season_summary)\n",
    "\n",
    "print(\"\\n=== KEY FEATURES AVAILABLE ===\")\n",
    "feature_cols = [col for col in final_lagged_df.columns \n",
    "               if col.endswith('_prev') and col not in ['name_clean']]\n",
    "print(f\"Lagged performance features ({len(feature_cols)}):\")\n",
    "for col in feature_cols:\n",
    "    print(f\"  {col}\")"
   ]
  },
  {
   "cell_type": "code",
   "execution_count": 11,
   "metadata": {},
   "outputs": [
    {
     "name": "stdout",
     "output_type": "stream",
     "text": [
      "=== DATA QUALITY CHECKS ===\n",
      "Time to event range: 1 - 181 days\n",
      "Mean time to event: 132.6 days\n",
      "\n",
      "Age distribution (from previous year):\n",
      "  Range: 22 - 42\n",
      "  Mean: 28.5\n",
      "\n",
      "Games started (previous year): 0 - 33\n",
      "ERA (previous year): 0.95 - 8.07\n",
      "\n",
      "=== INJURY TYPE BREAKDOWN ===\n",
      "injury_type\n",
      "Undisclosed                14\n",
      "Strained groin             13\n",
      "Shoulder inflammation      13\n",
      "Strained oblique           12\n",
      "Strained hamstring          8\n",
      "Strained forearm            6\n",
      "Elbow inflammation          6\n",
      "Strained shoulder           5\n",
      "Lower back inflammation     4\n",
      "Tommy John surgery          4\n",
      "Name: count, dtype: int64\n"
     ]
    }
   ],
   "source": [
    "# Data quality checks\n",
    "print(\"=== DATA QUALITY CHECKS ===\")\n",
    "\n",
    "# Check for reasonable time_to_event values\n",
    "print(f\"Time to event range: {final_lagged_df['time_to_event'].min()} - {final_lagged_df['time_to_event'].max()} days\")\n",
    "print(f\"Mean time to event: {final_lagged_df['time_to_event'].mean():.1f} days\")\n",
    "\n",
    "# Check age distribution\n",
    "if 'age_prev' in final_lagged_df.columns:\n",
    "    print(f\"\\nAge distribution (from previous year):\")\n",
    "    print(f\"  Range: {final_lagged_df['age_prev'].min()} - {final_lagged_df['age_prev'].max()}\")\n",
    "    print(f\"  Mean: {final_lagged_df['age_prev'].mean():.1f}\")\n",
    "\n",
    "# Check performance metrics make sense\n",
    "if 'gs_prev' in final_lagged_df.columns:\n",
    "    print(f\"\\nGames started (previous year): {final_lagged_df['gs_prev'].min()} - {final_lagged_df['gs_prev'].max()}\")\n",
    "\n",
    "if 'era_prev' in final_lagged_df.columns:\n",
    "    print(f\"ERA (previous year): {final_lagged_df['era_prev'].min():.2f} - {final_lagged_df['era_prev'].max():.2f}\")\n",
    "\n",
    "print(\"\\n=== INJURY TYPE BREAKDOWN ===\")\n",
    "if 'injury_type' in final_lagged_df.columns:\n",
    "    injury_types = final_lagged_df[final_lagged_df['event']==1]['injury_type'].value_counts()\n",
    "    print(injury_types.head(10))"
   ]
  },
  {
   "cell_type": "code",
   "execution_count": 12,
   "metadata": {},
   "outputs": [
    {
     "name": "stdout",
     "output_type": "stream",
     "text": [
      "=== COMPARISON TO ORIGINAL DATASET ===\n",
      "Original dataset size: 1123\n",
      "Lagged dataset size: 436\n",
      "Size reduction: 61.2%\n",
      "\n",
      "Original event rate: 42.5%\n",
      "Lagged event rate: 44.0%\n"
     ]
    }
   ],
   "source": [
    "# Compare to original (leaked) dataset\n",
    "print(\"=== COMPARISON TO ORIGINAL DATASET ===\")\n",
    "print(f\"Original dataset size: {len(survival_df)}\")\n",
    "print(f\"Lagged dataset size: {len(final_lagged_df)}\")\n",
    "print(f\"Size reduction: {(1 - len(final_lagged_df)/len(survival_df)):.1%}\")\n",
    "\n",
    "print(f\"\\nOriginal event rate: {survival_df['event'].mean():.1%}\")\n",
    "print(f\"Lagged event rate: {final_lagged_df['event'].mean():.1%}\")\n",
    "\n",
    "# This reduction is expected because:\n",
    "# 1. We lost 2020 (no previous year performance)\n",
    "# 2. We lost 2023 data if we only have performance through 2022\n",
    "# 3. Not all players appear in consecutive years"
   ]
  },
  {
   "cell_type": "code",
   "execution_count": 13,
   "metadata": {},
   "outputs": [
    {
     "data": {
      "image/png": "[encoded data removed]",
      "text/plain": [
       "<Figure size 1400x1000 with 4 Axes>"
      ]
     },
     "metadata": {},
     "output_type": "display_data"
    }
   ],
   "source": [
    "# Visualize the key differences\n",
    "fig, axes = plt.subplots(2, 2, figsize=(14, 10))\n",
    "\n",
    "# Compare event rates by season\n",
    "orig_season_rates = survival_df.groupby('season')['event'].mean()\n",
    "lagged_season_rates = final_lagged_df.groupby('season')['event'].mean()\n",
    "\n",
    "seasons = sorted(set(orig_season_rates.index) | set(lagged_season_rates.index))\n",
    "orig_rates = [orig_season_rates.get(s, np.nan) for s in seasons]\n",
    "lagged_rates = [lagged_season_rates.get(s, np.nan) for s in seasons]\n",
    "\n",
    "x = np.arange(len(seasons))\n",
    "width = 0.35\n",
    "\n",
    "axes[0,0].bar(x - width/2, orig_rates, width, label='Original', alpha=0.7)\n",
    "axes[0,0].bar(x + width/2, lagged_rates, width, label='Lagged', alpha=0.7)\n",
    "axes[0,0].set_xlabel('Season')\n",
    "axes[0,0].set_ylabel('Injury Rate')\n",
    "axes[0,0].set_title('Injury Rate Comparison by Season')\n",
    "axes[0,0].set_xticks(x)\n",
    "axes[0,0].set_xticklabels(seasons)\n",
    "axes[0,0].legend()\n",
    "\n",
    "# Compare time to event distributions\n",
    "axes[0,1].hist(survival_df['time_to_event'], bins=30, alpha=0.5, label='Original', density=True)\n",
    "axes[0,1].hist(final_lagged_df['time_to_event'], bins=30, alpha=0.5, label='Lagged', density=True)\n",
    "axes[0,1].set_xlabel('Time to Event (days)')\n",
    "axes[0,1].set_ylabel('Density')\n",
    "axes[0,1].set_title('Time to Event Distribution')\n",
    "axes[0,1].legend()\n",
    "\n",
    "# Show feature availability\n",
    "orig_features = [col for col in survival_df.columns if col not in \n",
    "                ['player_name', 'season', 'time_to_event', 'event', 'injury_type', 'injury_category', 'name_clean']]\n",
    "lagged_features = [col for col in final_lagged_df.columns if col.endswith('_prev')]\n",
    "\n",
    "axes[1,0].bar(['Original', 'Lagged'], [len(orig_features), len(lagged_features)])\n",
    "axes[1,0].set_ylabel('Number of Features')\n",
    "axes[1,0].set_title('Feature Count Comparison')\n",
    "\n",
    "# Age distribution comparison (if available)\n",
    "if 'age' in survival_df.columns and 'age_prev' in final_lagged_df.columns:\n",
    "    axes[1,1].hist(survival_df['age'].dropna(), bins=20, alpha=0.5, label='Original (current age)', density=True)\n",
    "    axes[1,1].hist(final_lagged_df['age_prev'].dropna(), bins=20, alpha=0.5, label='Lagged (prev age)', density=True)\n",
    "    axes[1,1].set_xlabel('Age')\n",
    "    axes[1,1].set_ylabel('Density')\n",
    "    axes[1,1].set_title('Age Distribution')\n",
    "    axes[1,1].legend()\n",
    "\n",
    "plt.tight_layout()\n",
    "plt.show()"
   ]
  },
  {
   "cell_type": "code",
   "execution_count": 14,
   "metadata": {},
   "outputs": [
    {
     "name": "stdout",
     "output_type": "stream",
     "text": [
      "\n",
      "Lagged dataset saved to: ../data/processed/survival_dataset_lagged.csv\n",
      "Dataset shape: (436, 30)\n",
      "Columns: ['name_clean', 'season', 'time_to_event', 'event', 'injury_type', 'injury_category', 'age', 'player_name', 'age_prev', 'w_prev', 'l_prev', 'era_prev', 'g_prev', 'gs_prev', 'ip_prev', 'h_prev', 'r_prev', 'er_prev', 'hr_prev', 'bb_prev', 'so_prev', 'whip_prev', 'fip_prev', 'war_prev', 'k_per_9_prev', 'bb_per_9_prev', 'hr_per_9_prev', 'high_workload_prev', 'veteran_prev', 'high_era_prev']\n",
      "\n",
      "=== FEATURE MAPPING ===\n",
      "target: ['time_to_event', 'event']\n",
      "identifiers: ['name_clean', 'season']\n",
      "injury_info: ['injury_type', 'injury_category']\n",
      "lagged_features: ['age_prev', 'w_prev', 'l_prev', 'era_prev', 'g_prev', 'gs_prev', 'ip_prev', 'h_prev', 'r_prev', 'er_prev', 'hr_prev', 'bb_prev', 'so_prev', 'whip_prev', 'fip_prev', 'war_prev', 'k_per_9_prev', 'bb_per_9_prev', 'hr_per_9_prev', 'high_workload_prev', 'veteran_prev', 'high_era_prev']\n"
     ]
    }
   ],
   "source": [
    "# Save the lagged dataset\n",
    "output_file = '../data/processed/survival_dataset_lagged.csv'\n",
    "final_lagged_df.to_csv(output_file, index=False)\n",
    "print(f\"\\nLagged dataset saved to: {output_file}\")\n",
    "print(f\"Dataset shape: {final_lagged_df.shape}\")\n",
    "print(f\"Columns: {final_lagged_df.columns.tolist()}\")\n",
    "\n",
    "# Create a feature mapping for easy reference\n",
    "feature_mapping = {\n",
    "    'target': ['time_to_event', 'event'],\n",
    "    'identifiers': ['name_clean', 'season'],\n",
    "    'injury_info': ['injury_type', 'injury_category'],\n",
    "    'lagged_features': [col for col in final_lagged_df.columns if col.endswith('_prev')]\n",
    "}\n",
    "\n",
    "print(\"\\n=== FEATURE MAPPING ===\")\n",
    "for category, features in feature_mapping.items():\n",
    "    available_features = [f for f in features if f in final_lagged_df.columns]\n",
    "    print(f\"{category}: {available_features}\")"
   ]
  }
 ],
 "metadata": {
  "kernelspec": {
   "display_name": "Pitcher Analysis (venv)",
   "language": "python",
   "name": "pitcher_venv"
  },
  "language_info": {
   "codemirror_mode": {
    "name": "ipython",
    "version": 3
   },
   "file_extension": ".py",
   "mimetype": "text/x-python",
   "name": "python",
   "nbconvert_exporter": "python",
   "pygments_lexer": "ipython3",
   "version": "3.12.4"
  }
 },
 "nbformat": 4,
 "nbformat_minor": 4
}
