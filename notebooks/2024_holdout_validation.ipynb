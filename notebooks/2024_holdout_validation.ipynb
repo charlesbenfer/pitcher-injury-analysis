{
 "cells": [
  {
   "cell_type": "markdown",
   "metadata": {},
   "source": [
    "# 2024 Holdout Validation and 2025 Projections\n",
    "\n",
    "External validation on unseen 2024 data and forward projections for 2025 season."
   ]
  },
  {
   "cell_type": "code",
   "execution_count": null,
   "metadata": {},
   "outputs": [],
   "source": [
    "import pandas as pd\n",
    "import numpy as np\n",
    "import pymc as pm\n",
    "import arviz as az\n",
    "from lifelines.utils import concordance_index\n",
    "import matplotlib.pyplot as plt\n",
    "import seaborn as sns\n",
    "from datetime import datetime\n",
    "\n",
    "# Load full dataset\n",
    "df = pd.read_csv('../data/processed/survival_dataset_lagged_enhanced.csv')\n",
    "print(f\"Loaded {len(df)} pitcher-seasons from 2019-2024\")\n",
    "print(f\"Season distribution:\\n{df['season'].value_counts().sort_index()}\")"
   ]
  },
  {
   "cell_type": "markdown",
   "metadata": {},
   "source": [
    "## 1. Split Data: 2019-2023 Training vs 2024 Holdout"
   ]
  },
  {
   "cell_type": "code",
   "execution_count": null,
   "metadata": {},
   "outputs": [],
   "source": [
    "# Split data chronologically\n",
    "train_data = df[df['season'] < 2024].copy()\n",
    "holdout_2024 = df[df['season'] == 2024].copy()\n",
    "\n",
    "print(f\"Training data (2019-2023): {len(train_data)} observations\")\n",
    "print(f\"Holdout data (2024): {len(holdout_2024)} observations\")\n",
    "print(f\"Training injury rate: {train_data['event'].mean():.1%}\")\n",
    "print(f\"2024 injury rate: {holdout_2024['event'].mean():.1%}\")"
   ]
  },
  {
   "cell_type": "markdown",
   "metadata": {},
   "source": [
    "## 2. Retrain Model on 2019-2023 Data"
   ]
  },
  {
   "cell_type": "code",
   "execution_count": null,
   "metadata": {},
   "outputs": [],
   "source": [
    "# Features for modeling (lagged variables only)\n",
    "features = [\n",
    "    'age_prev', 'g_prev', 'veteran_prev', 'era_prev', \n",
    "    'ip_prev', 'war_prev', 'high_workload_prev'\n",
    "]\n",
    "\n",
    "# Prepare training data\n",
    "X_train = train_data[features].copy()\n",
    "y_time_train = train_data['time_to_event'].values\n",
    "y_event_train = train_data['event'].values\n",
    "\n",
    "# Standardize features\n",
    "from sklearn.preprocessing import StandardScaler\n",
    "scaler = StandardScaler()\n",
    "X_train_scaled = scaler.fit_transform(X_train)\n",
    "\n",
    "print(f\"Training on {len(X_train)} observations with {len(features)} features\")\n",
    "print(f\"Features: {features}\")"
   ]
  },
  {
   "cell_type": "code",
   "execution_count": null,
   "metadata": {},
   "outputs": [],
   "source": [
    "# Retrain Bayesian Weibull AFT model on 2019-2023 data\n",
    "with pm.Model() as retrain_model:\n",
    "    # Horseshoe priors for feature selection\n",
    "    tau = pm.HalfNormal('tau', sigma=1)\n",
    "    lambda_coef = pm.HalfNormal('lambda', sigma=1, shape=X_train_scaled.shape[1])\n",
    "    \n",
    "    # Coefficients with horseshoe prior\n",
    "    beta = pm.Normal('beta', mu=0, sigma=tau * lambda_coef, shape=X_train_scaled.shape[1])\n",
    "    beta_0 = pm.Normal('beta_0', mu=5.0, sigma=1)\n",
    "    \n",
    "    # Weibull shape parameter\n",
    "    alpha = pm.Gamma('alpha', alpha=2, beta=1)\n",
    "    \n",
    "    # Linear predictor (log-scale parameter for Weibull)\n",
    "    mu = beta_0 + pm.math.dot(X_train_scaled, beta)\n",
    "    \n",
    "    # Weibull likelihood\n",
    "    obs = pm.Weibull('obs', alpha=alpha, beta=pm.math.exp(mu), \n",
    "                     observed=y_time_train, censored=1-y_event_train)\n",
    "    \n",
    "    # Fit model\n",
    "    trace_retrain = pm.sample(2000, tune=1000, random_seed=42, \n",
    "                              target_accept=0.95, return_inferencedata=True)\n",
    "\n",
    "print(\"✅ Model retrained on 2019-2023 data\")"
   ]
  },
  {
   "cell_type": "markdown",
   "metadata": {},
   "source": [
    "## 3. Validate on 2024 Holdout Data"
   ]
  },
  {
   "cell_type": "code",
   "execution_count": null,
   "metadata": {},
   "outputs": [],
   "source": [
    "# Prepare holdout data\n",
    "X_holdout = holdout_2024[features].copy()\n",
    "X_holdout_scaled = scaler.transform(X_holdout)\n",
    "y_time_holdout = holdout_2024['time_to_event'].values\n",
    "y_event_holdout = holdout_2024['event'].values\n",
    "\n",
    "# Generate predictions for 2024\n",
    "posterior = trace_retrain.posterior\n",
    "beta_samples = posterior['beta'].values.reshape(-1, len(features))\n",
    "beta_0_samples = posterior['beta_0'].values.flatten()\n",
    "alpha_samples = posterior['alpha'].values.flatten()\n",
    "\n",
    "# Predict survival times (median of posterior predictive)\n",
    "linear_pred = beta_0_samples.mean() + X_holdout_scaled @ beta_samples.mean(axis=0)\n",
    "predicted_times = np.exp(linear_pred)\n",
    "\n",
    "# Calculate risk scores (negative log survival time for concordance)\n",
    "risk_scores_2024 = -np.log(predicted_times)\n",
    "\n",
    "print(f\"Generated predictions for {len(holdout_2024)} pitchers in 2024\")"
   ]
  },
  {
   "cell_type": "code",
   "execution_count": null,
   "metadata": {},
   "outputs": [],
   "source": [
    "# Calculate external validation metrics\n",
    "c_index_2024 = concordance_index(y_time_holdout, -risk_scores_2024, y_event_holdout)\n",
    "\n",
    "print(f\"🎯 2024 Holdout Validation Results:\")\n",
    "print(f\"C-index: {c_index_2024:.3f}\")\n",
    "print(f\"Injuries in 2024: {y_event_holdout.sum()}/{len(y_event_holdout)} ({y_event_holdout.mean():.1%})\")\n",
    "\n",
    "# Risk calibration check\n",
    "holdout_2024_results = holdout_2024.copy()\n",
    "holdout_2024_results['risk_score'] = risk_scores_2024\n",
    "holdout_2024_results['predicted_time'] = predicted_times\n",
    "\n",
    "# Create risk quartiles\n",
    "risk_quartiles = np.percentile(risk_scores_2024, [25, 50, 75])\n",
    "holdout_2024_results['risk_quartile'] = pd.cut(\n",
    "    risk_scores_2024, \n",
    "    bins=[-np.inf] + list(risk_quartiles) + [np.inf],\n",
    "    labels=['Low', 'Moderate', 'High', 'Very High']\n",
    ")\n",
    "\n",
    "# Validation by risk quartile\n",
    "validation_results = holdout_2024_results.groupby('risk_quartile').agg({\n",
    "    'event': ['count', 'sum', 'mean'],\n",
    "    'time_to_event': 'mean'\n",
    "}).round(3)\n",
    "\n",
    "validation_results.columns = ['Count', 'Injuries', 'Injury_Rate', 'Avg_Time']\n",
    "print(f\"\\n📊 Risk Calibration on 2024 Data:\")\n",
    "print(validation_results)"
   ]
  },
  {
   "cell_type": "markdown",
   "metadata": {},
   "source": [
    "## 4. Create 2025 Season Projections"
   ]
  },
  {
   "cell_type": "code",
   "execution_count": null,
   "metadata": {},
   "outputs": [],
   "source": [
    "# Create 2025 projections using 2024 stats as lagged features\n",
    "projections_2025 = holdout_2024.copy()\n",
    "\n",
    "# Create 2025 projection features (2024 becomes \"prev\" for 2025)\n",
    "projection_features = {\n",
    "    'age_prev': projections_2025['age'] + 1,  # Age up by 1 year\n",
    "    'g_prev': projections_2025['g'],\n",
    "    'veteran_prev': (projections_2025['age'] + 1 >= 30).astype(int),\n",
    "    'era_prev': projections_2025['era'],\n",
    "    'ip_prev': projections_2025['ip'],\n",
    "    'war_prev': projections_2025['war'],\n",
    "    'high_workload_prev': projections_2025['high_workload']\n",
    "}\n",
    "\n",
    "# Create projection dataframe\n",
    "X_projection = pd.DataFrame(projection_features)\n",
    "X_projection_scaled = scaler.transform(X_projection)\n",
    "\n",
    "# Generate 2025 risk predictions\n",
    "linear_pred_2025 = beta_0_samples.mean() + X_projection_scaled @ beta_samples.mean(axis=0)\n",
    "predicted_times_2025 = np.exp(linear_pred_2025)\n",
    "risk_scores_2025 = -np.log(predicted_times_2025)\n",
    "\n",
    "print(f\"Generated 2025 projections for {len(projections_2025)} active pitchers\")"
   ]
  },
  {
   "cell_type": "code",
   "execution_count": null,
   "metadata": {},
   "outputs": [],
   "source": [
    "# Create comprehensive 2025 projections dataset\n",
    "projections_2025['season'] = 2025\n",
    "projections_2025['risk_score_2025'] = risk_scores_2025\n",
    "projections_2025['predicted_time_2025'] = predicted_times_2025\n",
    "\n",
    "# Add 2025 projection features\n",
    "for feature, values in projection_features.items():\n",
    "    projections_2025[feature] = values\n",
    "\n",
    "# Risk categorization for 2025\n",
    "# Use training data quartiles for consistency\n",
    "train_risk_scores = -(beta_0_samples.mean() + X_train_scaled @ beta_samples.mean(axis=0))\n",
    "train_risk_quartiles = np.percentile(train_risk_scores, [25, 50, 75])\n",
    "\n",
    "projections_2025['risk_category_2025'] = pd.cut(\n",
    "    risk_scores_2025,\n",
    "    bins=[-np.inf] + list(train_risk_quartiles) + [np.inf],\n",
    "    labels=['Low', 'Moderate', 'High', 'Very High']\n",
    ")\n",
    "\n",
    "print(f\"\\n⚾ 2025 Season Risk Distribution:\")\n",
    "print(projections_2025['risk_category_2025'].value_counts())\n",
    "\n",
    "# Save 2025 projections\n",
    "projections_2025.to_csv('../data/processed/pitcher_projections_2025.csv', index=False)\n",
    "print(f\"\\n💾 Saved 2025 projections to data/processed/pitcher_projections_2025.csv\")"
   ]
  },
  {
   "cell_type": "markdown",
   "metadata": {},
   "source": [
    "## 5. Save Validation Results"
   ]
  },
  {
   "cell_type": "code",
   "execution_count": null,
   "metadata": {},
   "outputs": [],
   "source": [
    "# Save validation summary\n",
    "validation_summary = {\n",
    "    'validation_date': datetime.now().strftime('%Y-%m-%d'),\n",
    "    'training_period': '2019-2023',\n",
    "    'holdout_period': '2024',\n",
    "    'training_samples': len(train_data),\n",
    "    'holdout_samples': len(holdout_2024),\n",
    "    'c_index_2024': c_index_2024,\n",
    "    'training_injury_rate': train_data['event'].mean(),\n",
    "    'holdout_injury_rate': holdout_2024['event'].mean(),\n",
    "    'projection_samples_2025': len(projections_2025)\n",
    "}\n",
    "\n",
    "import json\n",
    "with open('../data/processed/validation_results.json', 'w') as f:\n",
    "    json.dump(validation_summary, f, indent=2)\n",
    "\n",
    "print(\"✅ Validation complete!\")\n",
    "print(f\"External validation C-index: {c_index_2024:.3f}\")\n",
    "print(f\"2025 projections ready for {len(projections_2025)} pitchers\")"
   ]
  }
 ],
 "metadata": {
  "kernelspec": {
   "display_name": "Python 3",
   "language": "python",
   "name": "python3"
  },
  "language_info": {
   "codemirror_mode": {
    "name": "ipython",
    "version": 3
   },
   "file_extension": ".py",
   "mimetype": "text/x-python",
   "name": "python",
   "nbconvert_exporter": "python",
   "pygments_lexer": "ipython3",
   "version": "3.12.0"
  }
 },
 "nbformat": 4,
 "nbformat_minor": 4
}